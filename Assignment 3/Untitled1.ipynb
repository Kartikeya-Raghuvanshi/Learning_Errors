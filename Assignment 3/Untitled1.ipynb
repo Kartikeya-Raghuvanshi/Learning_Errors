{
 "cells": [
  {
   "cell_type": "code",
   "execution_count": 1,
   "id": "b5e966fc",
   "metadata": {},
   "outputs": [],
   "source": [
    "import numpy as np\n",
    "import gym\n",
    "import random\n",
    "from IPython.display import clear_output"
   ]
  },
  {
   "cell_type": "code",
   "execution_count": 4,
   "id": "a79739fd",
   "metadata": {
    "scrolled": true
   },
   "outputs": [],
   "source": [
    "env=gym.make(\"FrozenLake-v1\")"
   ]
  },
  {
   "cell_type": "code",
   "execution_count": 5,
   "id": "2fa36f92",
   "metadata": {},
   "outputs": [],
   "source": [
    "action_size=env.action_space.n\n",
    "state_size=env.observation_space.n"
   ]
  },
  {
   "cell_type": "code",
   "execution_count": 6,
   "id": "9d3b492a",
   "metadata": {},
   "outputs": [
    {
     "name": "stdout",
     "output_type": "stream",
     "text": [
      "[[0. 0. 0. 0.]\n",
      " [0. 0. 0. 0.]\n",
      " [0. 0. 0. 0.]\n",
      " [0. 0. 0. 0.]\n",
      " [0. 0. 0. 0.]\n",
      " [0. 0. 0. 0.]\n",
      " [0. 0. 0. 0.]\n",
      " [0. 0. 0. 0.]\n",
      " [0. 0. 0. 0.]\n",
      " [0. 0. 0. 0.]\n",
      " [0. 0. 0. 0.]\n",
      " [0. 0. 0. 0.]\n",
      " [0. 0. 0. 0.]\n",
      " [0. 0. 0. 0.]\n",
      " [0. 0. 0. 0.]\n",
      " [0. 0. 0. 0.]]\n"
     ]
    }
   ],
   "source": [
    "q_table=np.zeros((state_size,action_size))\n",
    "print(q_table)"
   ]
  },
  {
   "cell_type": "code",
   "execution_count": 26,
   "id": "69047586",
   "metadata": {},
   "outputs": [],
   "source": [
    "num_episodes=10000\n",
    "max_steps_per_episode=100\n",
    "\n",
    "learning_rate=0.1\n",
    "discount_rate=0.99\n",
    "\n",
    "exploration_rate=1\n",
    "max_exploration_rate=1\n",
    "min_exploration_rate=0.01\n",
    "#exploration_decay_rate=0.01\n",
    "exploration_decay_rate=0.001"
   ]
  },
  {
   "cell_type": "code",
   "execution_count": 29,
   "id": "4fed5fa8",
   "metadata": {},
   "outputs": [
    {
     "name": "stdout",
     "output_type": "stream",
     "text": [
      "1000  :  0.05400000000000004\n",
      "2000  :  0.20500000000000015\n",
      "3000  :  0.4140000000000003\n",
      "4000  :  0.5560000000000004\n",
      "5000  :  0.6300000000000004\n",
      "6000  :  0.6490000000000005\n",
      "7000  :  0.6740000000000005\n",
      "8000  :  0.6970000000000005\n",
      "9000  :  0.6740000000000005\n",
      "10000  :  0.6620000000000005\n"
     ]
    }
   ],
   "source": [
    "rewards=[]\n",
    "\n",
    "# Q-Learning\n",
    "\n",
    "for episodes in range(num_episodes):\n",
    "    state = env.reset()\n",
    "    done = False\n",
    "    rewards_curr = 0\n",
    "    \n",
    "    for step in range(max_steps_per_episode):\n",
    "        exploration_rate_threshold = random.uniform(0,1)\n",
    "        \n",
    "        if exploration_rate_threshold>exploration_rate:\n",
    "            action = np.argmax(q_table[state,:])#check this state syntax\n",
    "            \n",
    "            \n",
    "        else:\n",
    "            action = env.action_space.sample()\n",
    "            \n",
    "        new_state,reward, done, info = env.step(action)\n",
    "        \n",
    "        q_table[state,action]=q_table[state,action]*(1-learning_rate)+\\\n",
    "        learning_rate*(reward+discount_rate*np.max(q_table[new_state,:]))\n",
    "        \n",
    "        state=new_state\n",
    "        rewards_curr+=reward\n",
    "        \n",
    "        if done==True:\n",
    "            break\n",
    "            \n",
    "    exploration_rate=min_exploration_rate+(max_exploration_rate-min_exploration_rate)*np.exp(-exploration_decay_rate*episodes)\n",
    "        \n",
    "    rewards.append(rewards_curr)\n",
    "        \n",
    "rewards_per1000=np.split(np.array(rewards),num_episodes/1000)\n",
    "count = 1000\n",
    "\n",
    "for i in rewards_per1000 :\n",
    "    print(count ,\" : \",str(sum(i/1000)))\n",
    "    count+=1000\n",
    "            \n",
    "\n",
    "        "
   ]
  },
  {
   "cell_type": "code",
   "execution_count": null,
   "id": "91afd68c",
   "metadata": {},
   "outputs": [],
   "source": []
  }
 ],
 "metadata": {
  "kernelspec": {
   "display_name": "Python 3",
   "language": "python",
   "name": "python3"
  },
  "language_info": {
   "codemirror_mode": {
    "name": "ipython",
    "version": 3
   },
   "file_extension": ".py",
   "mimetype": "text/x-python",
   "name": "python",
   "nbconvert_exporter": "python",
   "pygments_lexer": "ipython3",
   "version": "3.9.4"
  }
 },
 "nbformat": 4,
 "nbformat_minor": 5
}
